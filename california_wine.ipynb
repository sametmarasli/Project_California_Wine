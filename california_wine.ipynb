{
 "cells": [
  {
   "cell_type": "markdown",
   "metadata": {},
   "source": [
    "# Summary\n",
    "This report provides an analysis of the quality and price of the California wines by considering  different factors such as grapes, production volumes and the origins. The ratings were published\n",
    "in a number of issues of the Wine Spectator magazine. The dataset includes only the wines produced out of a single grape and only the wines produced in the state of California.\n",
    "\n",
    "#### Methods of analysis:\n",
    "- PostgreSQL is used to store the data and to handle some quick analysis.\n",
    "- For statistical tests and predictive analysis Python and libraries such as pandas and scikitlearn are used.\n",
    "- Check https://public.tableau.com/shared/TJ8G6NW24?:display_count=yes for an interactive dashboard\n",
    "\n",
    "\n",
    "#### Facts and  Findings: \n",
    "- Most of the wine is cultivated in the North Coast area, scecifically in Napa Sonoma counties.\n",
    "- Chardonnay and Sauvignon Blanc are the most frequently used grapes for white wines. Pinot Noir, Zinfandel, and Cabernet Sauvingnon are the most populer grapes for the red wines.\n",
    "- The highest scored wines are A Shot in the Dark Eleven Confessions Vineyard from Sta. Rita Hills, Santa Barbara and Papa''s Block from Russian River Valley, Sonoma. In general, North Coast wines have significantly better scores. Sonoma County's wines have relatively higher scores. Cabernet Sauvingnon and Chardonay grapes yielded usually high scored wines\n",
    "- The lowest scored wine is Zinfandel from Fiddletown, Amador. Wines manufactured from Zinfandel and Sauvignon Blanc grapes are mostly low scored.\n",
    "- The most expensive wine is Darius II from Napa Valley, Napa by 225 dollars. In terms of areas, North Coast and Central Coast produce relatively expensive wines. \n",
    "- On the other hand, the cheapest wine is called Finest Selection Reserve form Napa Valley, Napa by 10 dollars.\n",
    "- Wines that should be consumed later, when they mature, seems to be more expansive than the wines thath should be consumed now, fresh in other words.\n",
    "\n",
    "\n",
    "**Wines with grapes from AVA regions are better**\n",
    "\n",
    "AVA's are designated wine grape-growing regions in the United States which are regulated by the government. It is similar to DOC (controlled designation of origin) which is a quality assurance label for Italian wines. Usually, DOC wines were better and you had pay a little premium. \n",
    "\n",
    "It is the same with California. Wines produced from AVA grapes are significantly more expensive and have higher scores than wines with the other grapes.\n",
    "\n",
    "\n",
    "**White wines are cheaper than red wines in general. Also, white wines are produced more. But, there is no difference between red and white wines in terms of overall score.**\n",
    "\n",
    "In general white wines are cheaper for two reasons; first, red wines have more flavor elements in them than white wines do, due to the compounds that come from the skins and seeds. That allows red wines to age more than whites do. Second, white wine - especially the simpler varieties like Sauvignon Blanc are very economical to produce. In case of California wines, it is the same. White wines are significantly cheaper than red wines. But they both have similar scores in terms of taste.\n",
    "\n",
    "Even the number of red wine producers is more than double the white wine producers, white wine production exceeds the red wine in terms of volume of cases. Average production volume of red and white wineries state that white wine producers produce more than double in average. This may be due to fact that producing white wine is cheaper and people prefer to consume more since it is more fresh, used during cooking, and white wine is the ingredient of lots of coctails.\n",
    "\n",
    "\n",
    "\n",
    "#### Predictive analysis:\n",
    "- A decision tree classifier separates the wines as high and low quality by looking at their scores. (above 90 high, below 90 low) The analysis states that 69 of the wines that are below 25 dollars and not from the Monterey and San Benito counties are low quality. Wines that are below 47 dollars and production volumes more than 271 also have low scores. \n",
    "- Most of the high-quality wines cost more than 48 dollars and or has lower production volumes specifically less than 270 cases.\n",
    "\n",
    "** These results are valid when the max depth is 3 for the classifier\n",
    "\n",
    "\n",
    "#### Limitations:\n",
    "\n",
    "Since the data is not collected for analytical purposes, it does not have important characteristics For example, there is not enough data to compare areas, counties and grape categories since it is not distributed evenly between categories. Most of the grape categories only have one samples. In addition, an important part of the data is not labeled in terms of location. This makes the spatial analysis weaker.\n"
   ]
  },
  {
   "cell_type": "markdown",
   "metadata": {},
   "source": [
    "#### Wine Database\n",
    "\n",
    "http://users.csc.calpoly.edu/%7Edekhtyar/365-Winter2015/index.html"
   ]
  },
  {
   "cell_type": "markdown",
   "metadata": {},
   "source": [
    "  The dataset consists of the following files:\n",
    "\n",
    "     - appelations.csv  : list of appelations/American Viticultural Areas (AVAs)\n",
    "     - grapes.csv       : list of grape varieties\n",
    "     - wine.csv         : list of wines and their ratings\n",
    "\n",
    "\n",
    " Individual files have the following formats.\n",
    "\n",
    "**************************************************************************\n",
    "\n",
    "appelations.csv\n",
    "\n",
    "          No : line number in the CSV file  \n",
    "   Appelation: name of the appelation/AVA/grape-growing region\n",
    "       County: county (if applicable) in which the area is located\n",
    "        State: state in which the area is located\n",
    "         Area: general geographic area in which the grape-growing region is located\n",
    "        isAVA: a flag specifying whether the region is recognized as an American\n",
    "               Viticultural Area (AVA) by federal regulations.\n",
    "\n",
    "\n",
    "**************************************************************************\n",
    "\n",
    "grapes.csv\n",
    "\n",
    "     ID: unique identifier of a grape (line number in the CSV file)\n",
    "      Grape: name of the grape varietal\n",
    "      Color: color of the grape (a.k.a, color of the wine when made solely of\n",
    "         this grape)\n",
    "\n",
    "**************************************************************************\n",
    "\n",
    "wine.csv\n",
    "\n",
    "       No.: unique identifier of the wine (line number in the CSV file)\n",
    "     Grape: grape varietal from which the wine is made (see grapes.Grape)\n",
    "    Winery: maker of the wine (usually a winery name)\n",
    "    Appelation: origin of the grapes (see applations.Appelation)\n",
    "     State: state of the grapes' origin (same as appelations.State)\n",
    "      Name: name of the wine\n",
    "      Year: year of the wine vintage\n",
    "     Price: price of one bottle of wine in (whole) US dollars\n",
    "     Score: Wine Spectator magazine rating of the wine on the 100 point scale\n",
    "     Cases: number of cases of the wine produced by its maker\n",
    "     Drink: drinking advice\n"
   ]
  },
  {
   "cell_type": "markdown",
   "metadata": {},
   "source": [
    "# A - Create DB"
   ]
  },
  {
   "cell_type": "code",
   "execution_count": 2,
   "metadata": {
    "collapsed": false,
    "scrolled": true
   },
   "outputs": [
    {
     "name": "stdout",
     "output_type": "stream",
     "text": [
      "DROP DATABASE\r\n"
     ]
    }
   ],
   "source": [
    "!psql -c 'DROP DATABASE IF EXISTS winedb;' postgres"
   ]
  },
  {
   "cell_type": "code",
   "execution_count": 3,
   "metadata": {
    "collapsed": false
   },
   "outputs": [
    {
     "name": "stdout",
     "output_type": "stream",
     "text": [
      "CREATE DATABASE\r\n"
     ]
    }
   ],
   "source": [
    "! psql -c 'CREATE DATABASE winedb;' postgres"
   ]
  },
  {
   "cell_type": "code",
   "execution_count": 4,
   "metadata": {
    "collapsed": false,
    "scrolled": true
   },
   "outputs": [
    {
     "name": "stdout",
     "output_type": "stream",
     "text": [
      "                                  List of databases\r\n",
      "   Name    |  Owner   | Encoding |   Collate   |    Ctype    |   Access privileges   \r\n",
      "-----------+----------+----------+-------------+-------------+-----------------------\r\n",
      " itunes    | samet    | UTF8     | en_US.UTF-8 | en_US.UTF-8 | \r\n",
      " postgres  | postgres | UTF8     | en_US.UTF-8 | en_US.UTF-8 | \r\n",
      " template0 | postgres | UTF8     | en_US.UTF-8 | en_US.UTF-8 | =c/postgres          +\r\n",
      "           |          |          |             |             | postgres=CTc/postgres\r\n",
      " template1 | postgres | UTF8     | en_US.UTF-8 | en_US.UTF-8 | =c/postgres          +\r\n",
      "           |          |          |             |             | postgres=CTc/postgres\r\n",
      " testdb    | samet    | UTF8     | en_US.UTF-8 | en_US.UTF-8 | \r\n",
      " winedb    | samet    | UTF8     | en_US.UTF-8 | en_US.UTF-8 | \r\n",
      "(6 rows)\r\n",
      "\r\n"
     ]
    }
   ],
   "source": [
    "# check the databases\n",
    "! psql -l"
   ]
  },
  {
   "cell_type": "markdown",
   "metadata": {},
   "source": [
    "## Create Tables"
   ]
  },
  {
   "cell_type": "code",
   "execution_count": 5,
   "metadata": {
    "collapsed": true
   },
   "outputs": [],
   "source": [
    "import psycopg2\n",
    "import csv "
   ]
  },
  {
   "cell_type": "code",
   "execution_count": 6,
   "metadata": {
    "collapsed": false
   },
   "outputs": [],
   "source": [
    "con = psycopg2.connect(database='winedb', user='samet' , host='/var/run/postgresql/')  \n",
    "cur = con.cursor()\n",
    "\n",
    "with open ('grapes.csv', 'r') as f:\n",
    "    reader = csv.reader(f)\n",
    "    columns = next(reader) \n",
    "    cur.execute ('''\n",
    "    DROP TABLE IF EXISTS grapes;\n",
    "    CREATE TABLE Grapes ( \n",
    "        ID SERIAL PRIMARY KEY ,\n",
    "        Grape TEXT UNIQUE ,\n",
    "        Color TEXT)''' )  \n",
    "    query = 'insert into grapes (ID, Grape, Color) values (%s, %s, %s)'\n",
    "    for data in reader:\n",
    "        cur.execute(query, [e.strip(\"'\") for e in data])\n",
    "    con.commit()\n",
    "con.close()"
   ]
  },
  {
   "cell_type": "code",
   "execution_count": 7,
   "metadata": {
    "collapsed": false
   },
   "outputs": [],
   "source": [
    "# # check the tables created in the database\n",
    "# !psql -c '\\dt' winedb \n",
    "# !psql -c 'select * from grapes limit 5' winedb "
   ]
  },
  {
   "cell_type": "code",
   "execution_count": 8,
   "metadata": {
    "collapsed": false
   },
   "outputs": [],
   "source": [
    "con = psycopg2.connect(database='winedb', user='samet' , host='/var/run/postgresql/')  \n",
    "cur = con.cursor()\n",
    "\n",
    "with open ('appellations.csv', 'r') as f:\n",
    "    reader = csv.reader(f)\n",
    "    columns = next(reader) \n",
    "    cur.execute ('''\n",
    "    DROP TABLE IF EXISTS appelations;\n",
    "    CREATE TABLE Appelations ( \n",
    "        ID SERIAL PRIMARY KEY ,\n",
    "   Appelation TEXT,\n",
    "       County TEXT,\n",
    "        State TEXT,\n",
    "         Area TEXT,\n",
    "        isAVA TEXT)\n",
    "        ''' )  \n",
    "    query = 'insert into appelations (ID, Appelation, County, State, Area, isAVA )\\\n",
    "    values (%s, %s, %s, %s, %s, %s)'\n",
    "    for data in reader:\n",
    "        cur.execute(query, [e.strip(\"'\") for e in data])\n",
    "    con.commit()\n",
    "con.close()"
   ]
  },
  {
   "cell_type": "code",
   "execution_count": 9,
   "metadata": {
    "collapsed": false,
    "scrolled": false
   },
   "outputs": [],
   "source": [
    "# # check the tables created in the database\n",
    "# !psql -c '\\dt' winedb \n",
    "# !psql -c 'select * from appelations limit 5' winedb "
   ]
  },
  {
   "cell_type": "code",
   "execution_count": 10,
   "metadata": {
    "collapsed": false
   },
   "outputs": [],
   "source": [
    "con = psycopg2.connect(database='winedb', user='samet' , host='/var/run/postgresql/')  \n",
    "cur = con.cursor()\n",
    "\n",
    "with open ('wine.csv', 'r') as f:\n",
    "    reader = csv.reader(f)\n",
    "    columns = next(reader) \n",
    "    cur.execute ('''\n",
    "    DROP TABLE IF EXISTS wine;\n",
    "    CREATE TABLE wine ( \n",
    "        ID SERIAL PRIMARY KEY ,\n",
    "     Grape TEXT,\n",
    "    Winery TEXT,\n",
    "Appelation TEXT,\n",
    "     State TEXT,\n",
    "      Name TEXT,\n",
    "      Year INTEGER,\n",
    "     Price INTEGER,\n",
    "     Score INTEGER,\n",
    "     Cases TEXT,\n",
    "     Drink TEXT )\n",
    "        ''' )  \n",
    "    query = 'insert into wine (ID, Grape, Winery,Appelation, State, Name, Year, Price, Score, Cases, Drink)\\\n",
    "    values (%s, %s, %s, %s, %s, %s, %s, %s, %s, %s, %s) '\n",
    "    for data in reader:\n",
    "        cur.execute(query, [e.strip(\"'\") for e in data])\n",
    "    con.commit()\n",
    "con.close()"
   ]
  },
  {
   "cell_type": "code",
   "execution_count": 11,
   "metadata": {
    "collapsed": false,
    "scrolled": false
   },
   "outputs": [],
   "source": [
    "# # check the tables created in the database\n",
    "# !psql -c '\\dt' winedb \n",
    "# !psql -c 'select * from wine limit 5' winedb "
   ]
  },
  {
   "cell_type": "markdown",
   "metadata": {},
   "source": [
    "# B - Playing with SQL"
   ]
  },
  {
   "cell_type": "markdown",
   "metadata": {},
   "source": [
    "## Table & Data Manipulation "
   ]
  },
  {
   "cell_type": "code",
   "execution_count": 12,
   "metadata": {
    "collapsed": false
   },
   "outputs": [
    {
     "name": "stdout",
     "output_type": "stream",
     "text": [
      "   state    \n",
      "------------\n",
      " California\n",
      "(1 row)\n",
      "\n",
      "   state    \n",
      "------------\n",
      " California\n",
      "(1 row)\n",
      "\n"
     ]
    }
   ],
   "source": [
    "!psql -c 'select distinct state from appelations ' winedb \n",
    "!psql -c 'select distinct state from wine ' winedb "
   ]
  },
  {
   "cell_type": "code",
   "execution_count": 13,
   "metadata": {
    "collapsed": false
   },
   "outputs": [
    {
     "name": "stdout",
     "output_type": "stream",
     "text": [
      "ALTER TABLE\n",
      "ALTER TABLE\n"
     ]
    }
   ],
   "source": [
    "# since there is only one value for the state its better to drop the column\n",
    "!psql -c 'alter table appelations drop column if exists state' winedb\n",
    "!psql -c 'alter table wine drop column if exists state ' winedb"
   ]
  },
  {
   "cell_type": "markdown",
   "metadata": {},
   "source": [
    "Drinking advice is simplified. Either the field contains the value 'now' which means that wine can be enjoyed to its fullest potential at the moment it was rated by the Wine Spectator magazine, or it contains a year in which the wine is predicted to reach its full potential.\n",
    "So some wines should be consumed fresh and some mature. I will replace the values other than now as later to make the analysis more simple."
   ]
  },
  {
   "cell_type": "code",
   "execution_count": 14,
   "metadata": {
    "collapsed": false
   },
   "outputs": [
    {
     "name": "stdout",
     "output_type": "stream",
     "text": [
      "UPDATE 34\n",
      " drink \n",
      "-------\n",
      " now\n",
      " later\n",
      "(2 rows)\n",
      "\n"
     ]
    }
   ],
   "source": [
    "!psql -c \"update wine set drink = 'later' where drink != 'now'\" winedb\n",
    "!psql -c \"select distinct drink from wine\" winedb"
   ]
  },
  {
   "cell_type": "markdown",
   "metadata": {},
   "source": [
    "Finally, get rif of the null values at cases and change the data type to integer"
   ]
  },
  {
   "cell_type": "code",
   "execution_count": 15,
   "metadata": {
    "collapsed": false
   },
   "outputs": [
    {
     "name": "stdout",
     "output_type": "stream",
     "text": [
      "UPDATE 14\n",
      "ALTER TABLE\n"
     ]
    }
   ],
   "source": [
    "!psql -c \"update wine set cases = '0' where cases = 'NULL'\" winedb\n",
    "!psql -c \"alter table wine alter column cases set data type integer USING cases::integer\" winedb"
   ]
  },
  {
   "cell_type": "markdown",
   "metadata": {},
   "source": [
    "## Quick Analysis"
   ]
  },
  {
   "cell_type": "code",
   "execution_count": 16,
   "metadata": {
    "collapsed": false,
    "scrolled": true
   },
   "outputs": [],
   "source": [
    "# check the column names\n",
    "# !psql -c '\\d grapes' winedb \n",
    "# !psql -c '\\d wine' winedb \n",
    "# !psql -c '\\d appelations' winedb "
   ]
  },
  {
   "cell_type": "markdown",
   "metadata": {},
   "source": [
    "## General Look to Grape and Wine Production"
   ]
  },
  {
   "cell_type": "code",
   "execution_count": 17,
   "metadata": {
    "collapsed": false
   },
   "outputs": [
    {
     "name": "stdout",
     "output_type": "stream",
     "text": [
      "     county      | count |       area       \r\n",
      "-----------------+-------+------------------\r\n",
      " Sonoma          |    11 | North Coast\r\n",
      " Napa            |    11 | North Coast\r\n",
      " Santa Barbara   |     5 | Central Coast\r\n",
      " San Luis Obispo |     4 | Central Coast\r\n",
      " Amador          |     3 | Sierra Foothills\r\n",
      "(5 rows)\r\n",
      "\r\n"
     ]
    }
   ],
   "source": [
    "!psql -c \"select county,count(county),area \\\n",
    "        from appelations \\\n",
    "        group by county,area \\\n",
    "        order by count desc \\\n",
    "        limit 5\" winedb"
   ]
  },
  {
   "cell_type": "markdown",
   "metadata": {},
   "source": [
    "Most of the grapes are cultivated in Nort Coast and Central Cost areas respectively.\n",
    "\n",
    "Sonoma and Napa are the counties with the highest number of the appelations. "
   ]
  },
  {
   "cell_type": "code",
   "execution_count": 18,
   "metadata": {
    "collapsed": false
   },
   "outputs": [
    {
     "name": "stdout",
     "output_type": "stream",
     "text": [
      "  grapes_white   | count \n",
      "-----------------+-------\n",
      " Chardonnay      |   104\n",
      " Sauvignon Blanc |    46\n",
      " Marsanne        |     1\n",
      " Roussanne       |     1\n",
      " Viognier        |     1\n",
      "(5 rows)\n",
      "\n",
      "     grapes_red      | count \n",
      "---------------------+-------\n",
      " Pinot Noir          |   109\n",
      " Zinfandel           |    78\n",
      " Cabernet Sauvingnon |    68\n",
      " Syrah               |    61\n",
      " Merlot              |    10\n",
      "(5 rows)\n",
      "\n"
     ]
    }
   ],
   "source": [
    "!psql -c \"select wine.grape as grapes_white, count (wine.grape) \\\n",
    "        from wine join grapes\\\n",
    "        on wine.grape = grapes.grape\\\n",
    "        where grapes.color = 'White'\\\n",
    "        group by wine.grape\\\n",
    "        order by count desc\" winedb\n",
    "\n",
    "!psql -c \"select wine.grape as grapes_red, count (wine.grape) \\\n",
    "        from wine join grapes\\\n",
    "        on wine.grape = grapes.grape\\\n",
    "        where grapes.color = 'Red'\\\n",
    "        group by wine.grape\\\n",
    "        order by count desc\\\n",
    "        limit 5\" winedb"
   ]
  },
  {
   "cell_type": "markdown",
   "metadata": {},
   "source": [
    "Chardonnay and Sauvignon Blanc are the most frequently used grapes for white wines. \n",
    "\n",
    "Pinot Noir, Zinfandel, Cabernet Sauvingnon and Cabernet Sauvingnon are the most populer grapes for the red wines."
   ]
  },
  {
   "cell_type": "code",
   "execution_count": null,
   "metadata": {
    "collapsed": true
   },
   "outputs": [],
   "source": []
  },
  {
   "cell_type": "code",
   "execution_count": 19,
   "metadata": {
    "collapsed": false,
    "scrolled": true
   },
   "outputs": [
    {
     "name": "stdout",
     "output_type": "stream",
     "text": [
      "                      name                      |      appelation      |    county     | max_score \n",
      "------------------------------------------------+----------------------+---------------+-----------\n",
      " A Shot in the Dark Eleven Confessions Vineyard | Sta. Rita Hills      | Santa Barbara |        98\n",
      " Papa''s Block                                  | Russian River Valley | Sonoma        |        98\n",
      " In the Crosshairs Eleven Confessions Vineyard  | Sta. Rita Hills      | Santa Barbara |        97\n",
      " Cabernet Sauvignon                             | Napa Valley          | Napa          |        97\n",
      " Beckstoffer Dr. Crane Vineyard                 | St. Helena           | Napa          |        97\n",
      "(5 rows)\n",
      "\n",
      "                      name                      |   appelation    |    county     | max_price \n",
      "------------------------------------------------+-----------------+---------------+-----------\n",
      " Darius II                                      | Napa Valley     | Napa          |       225\n",
      " A Shot in the Dark Eleven Confessions Vineyard | Sta. Rita Hills | Santa Barbara |       200\n",
      " In the Crosshairs Eleven Confessions Vineyard  | Sta. Rita Hills | Santa Barbara |       200\n",
      " Couer de Valee                                 | Napa Valley     | Napa          |       175\n",
      " Beckstoffer Dr. Crane Vineyard                 | St. Helena      | Napa          |       150\n",
      "(5 rows)\n",
      "\n",
      "        name        |    appelation    |     county      | min_score \n",
      "--------------------+------------------+-----------------+-----------\n",
      " Zinfandel          | Fiddletown       | Amador          |        78\n",
      " Cabernet Sauvignon | California       | N/A             |        80\n",
      " A by Acacia        | California       | N/A             |        81\n",
      " Incredible Red     | Paso Robles      | San Luis Obispo |        82\n",
      " Zinfandel          | Sierra Foothills | N/A             |        82\n",
      "(5 rows)\n",
      "\n",
      "           name           |    appelation    | county | min_price \n",
      "--------------------------+------------------+--------+-----------\n",
      " Shiraz                   | California       | N/A    |         9\n",
      " Finest Selection Reserve | Napa Valley      | Napa   |        10\n",
      " Cabernet Sauvignon       | California       | N/A    |        10\n",
      " Zinfandel                | Sierra Foothills | N/A    |        10\n",
      " Sauvignon Blanc          | California       | N/A    |        10\n",
      "(5 rows)\n",
      "\n"
     ]
    }
   ],
   "source": [
    "!psql -c \"select wine.name,appelations.appelation,appelations.county,max(wine.score) as max_score \\\n",
    "        from wine,appelations\\\n",
    "        where wine.appelation = appelations.appelation \\\n",
    "        group by appelations.county,appelations.appelation,wine.name\\\n",
    "        order by max_score desc\\\n",
    "        limit 5\" winedb\n",
    "!psql -c \"select wine.name,appelations.appelation,appelations.county,max(wine.price) as max_price \\\n",
    "        from wine,appelations\\\n",
    "        where wine.appelation = appelations.appelation \\\n",
    "        group by appelations.county,appelations.appelation,wine.name \\\n",
    "        order by max_price desc\\\n",
    "        limit 5\" winedb\n",
    "!psql -c \"select wine.name,appelations.appelation,appelations.county,min(wine.score) as min_score \\\n",
    "        from wine,appelations\\\n",
    "        where wine.appelation = appelations.appelation \\\n",
    "        group by appelations.county,appelations.appelation,wine.name\\\n",
    "        order by min_score\\\n",
    "        limit 5\" winedb\n",
    "!psql -c \"select wine.name,appelations.appelation,appelations.county,min(wine.price) as min_price \\\n",
    "        from wine,appelations\\\n",
    "        where wine.appelation = appelations.appelation \\\n",
    "        group by appelations.county,appelations.appelation,wine.name \\\n",
    "        order by min_price\\\n",
    "        limit 5\" winedb"
   ]
  },
  {
   "cell_type": "markdown",
   "metadata": {},
   "source": [
    "Best wines by score:\n",
    "\n",
    "- A Shot in the Dark Eleven Confessions Vineyard from Sta. Rita Hills      from Santa Barbara\n",
    "- Papa''s Block \n",
    "from Russian River Valley from Sonoma        \n",
    "\n",
    "Most expensice wines :\n",
    "- Darius II, A Shot in the Dark Eleven Confessions Vineyard, In the Crosshairs Eleven Confessions Vineyard\n",
    "        "
   ]
  },
  {
   "cell_type": "markdown",
   "metadata": {},
   "source": [
    "## AVA wines are better?"
   ]
  },
  {
   "cell_type": "markdown",
   "metadata": {},
   "source": [
    "AVA's are designated wine grape-growing regions in the United States which are regulated by the government. It is similar to DOC (controlled designation of origin) which is a quality assurance label for Italian wines. I remember from Italy that DOC wines were better and you had pay a little premium. Let's see if its the same with AVA wines. \n",
    "\n",
    "\n",
    "At a first glance, wines from AVA are more expensive and have higher score in average.\n"
   ]
  },
  {
   "cell_type": "code",
   "execution_count": 20,
   "metadata": {
    "collapsed": false,
    "scrolled": true
   },
   "outputs": [
    {
     "name": "stdout",
     "output_type": "stream",
     "text": [
      " isava | count | average_score | average_price \r\n",
      "-------+-------+---------------+---------------\r\n",
      " Yes   |   404 |       90.3490 |       47.8218\r\n",
      " No    |    96 |       88.8021 |       35.2396\r\n",
      "(2 rows)\r\n",
      "\r\n"
     ]
    }
   ],
   "source": [
    "!psql -c  \"select appelations.isava,count(appelations.isava),\\\n",
    "            round(avg(score),4) as average_score, round(avg(price),4) as average_price \\\n",
    "            from appelations join wine on appelations.appelation=wine.appelation\\\n",
    "            group by appelations.isava\\\n",
    "            order by average_score desc\" winedb "
   ]
  },
  {
   "cell_type": "markdown",
   "metadata": {},
   "source": [
    "## Comparing Red or White Wines"
   ]
  },
  {
   "cell_type": "markdown",
   "metadata": {},
   "source": [
    "In general white wines are cheaper for two reasons; first, red wines have more flavor elements in them than white wines do, due to the compounds that come from the skins and seeds. That allows red wines to age more than whites do. Second, white wine - especially the simpler varieties like Sauvignon Blanc are very economical to produce.\n",
    "\n",
    "In case of California wines, it is the same. White wines seems significantly cheaper than red wines. But they both have similar scores in terms of taste. \n",
    "\n",
    "Even the number of red wine producers is more than double the white wine producers, white wine production exceeds the red wine in terms of volume of cases."
   ]
  },
  {
   "cell_type": "code",
   "execution_count": 21,
   "metadata": {
    "collapsed": false,
    "scrolled": true
   },
   "outputs": [
    {
     "name": "stdout",
     "output_type": "stream",
     "text": [
      " color | production | count | average_price | average_score \r\n",
      "-------+------------+-------+---------------+---------------\r\n",
      " White |    1127718 |   153 |       36.8497 |       90.1961\r\n",
      " Red   |    1035506 |   347 |       49.1787 |       89.9885\r\n",
      "(2 rows)\r\n",
      "\r\n"
     ]
    }
   ],
   "source": [
    "!psql -c  \"select grapes.color, sum(wine.cases) as production,count(color), round(avg(price),4) as average_price, round(avg(score),4) as average_score\\\n",
    "            from grapes join wine on grapes.grape=wine.grape\\\n",
    "            group by grapes.color\" winedb "
   ]
  },
  {
   "cell_type": "markdown",
   "metadata": {},
   "source": [
    "But the production volume data is not reliable since 12 of the red wine producer's output volume data is missing while only 2 is missing in terms of white. Nevertheless, average production volume of red and white wineries state that white wine producers produce more than double in average. This may be due to fact that producing white wine is cheaper and people prefer to consume more since it is more fresh, used during cooking, and white wine is the ingredient of lots of coctails."
   ]
  },
  {
   "cell_type": "code",
   "execution_count": 22,
   "metadata": {
    "collapsed": false
   },
   "outputs": [
    {
     "name": "stdout",
     "output_type": "stream",
     "text": [
      " color | no_missing_info \n",
      "-------+-----------------\n",
      " Red   |              12\n",
      " White |               2\n",
      "(2 rows)\n",
      "\n",
      " color | avg_production \n",
      "-------+----------------\n",
      " White |        7468.33\n",
      " Red   |        3091.06\n",
      "(2 rows)\n",
      "\n"
     ]
    }
   ],
   "source": [
    "!psql -c  \"select grapes.color, count(wine.cases) as no_missing_info\\\n",
    "            from grapes join wine on grapes.grape=wine.grape\\\n",
    "            where wine.cases = 0\\\n",
    "            group by grapes.color\" winedb \n",
    "\n",
    "!psql -c  \"select grapes.color, round(avg(wine.cases),2) as avg_production \\\n",
    "            from grapes join wine on grapes.grape=wine.grape\\\n",
    "            where wine.cases != 0\\\n",
    "            group by grapes.color\" winedb "
   ]
  },
  {
   "cell_type": "markdown",
   "metadata": {},
   "source": [
    "\n",
    "# C - Statistical Tests and Analysis"
   ]
  },
  {
   "cell_type": "markdown",
   "metadata": {},
   "source": [
    "#### Importing Data to Pandas Dataframe"
   ]
  },
  {
   "cell_type": "code",
   "execution_count": 23,
   "metadata": {
    "collapsed": false
   },
   "outputs": [
    {
     "name": "stdout",
     "output_type": "stream",
     "text": [
      "NOTICE:  view \"data\" does not exist, skipping\n",
      "DROP VIEW\n",
      "CREATE VIEW\n"
     ]
    }
   ],
   "source": [
    "# create a virtual table called data\n",
    "!psql -c  \"drop view if exists data\" winedb \n",
    "!psql -c  \"create view data as \\\n",
    "           select w.id,g.grape, g.color, w.name, a.area, a.county, w.winery, w.appelation, a.isava,  w.year ,w.drink,w.cases,w.price, w.score \\\n",
    "           from grapes as g, wine as w, appelations as a \\\n",
    "           where g.grape=w.grape and w.appelation = a.appelation\\\n",
    "           order by w.id\" winedb "
   ]
  },
  {
   "cell_type": "code",
   "execution_count": 24,
   "metadata": {
    "collapsed": false,
    "scrolled": true
   },
   "outputs": [
    {
     "name": "stdout",
     "output_type": "stream",
     "text": [
      "        View \"public.data\"\r\n",
      "   Column   |  Type   | Modifiers \r\n",
      "------------+---------+-----------\r\n",
      " id         | integer | \r\n",
      " grape      | text    | \r\n",
      " color      | text    | \r\n",
      " name       | text    | \r\n",
      " area       | text    | \r\n",
      " county     | text    | \r\n",
      " winery     | text    | \r\n",
      " appelation | text    | \r\n",
      " isava      | text    | \r\n",
      " year       | integer | \r\n",
      " drink      | text    | \r\n",
      " cases      | integer | \r\n",
      " price      | integer | \r\n",
      " score      | integer | \r\n",
      "\r\n"
     ]
    }
   ],
   "source": [
    "!psql -c \"\\d data\" winedb"
   ]
  },
  {
   "cell_type": "code",
   "execution_count": 25,
   "metadata": {
    "collapsed": false,
    "scrolled": true
   },
   "outputs": [],
   "source": [
    "import pandas as pd\n",
    "import psycopg2\n",
    "import pandas.io.sql as psql\n",
    "\n",
    "# convert data to pandas dataframe\n",
    "con = psycopg2.connect(database='winedb', user='samet', host='/var/run/postgresql/')\n",
    "df = psql.read_sql(\"SELECT * FROM data\", con)"
   ]
  },
  {
   "cell_type": "code",
   "execution_count": 26,
   "metadata": {
    "collapsed": false
   },
   "outputs": [
    {
     "data": {
      "text/html": [
       "<div>\n",
       "<table border=\"1\" class=\"dataframe\">\n",
       "  <thead>\n",
       "    <tr style=\"text-align: right;\">\n",
       "      <th></th>\n",
       "      <th>id</th>\n",
       "      <th>grape</th>\n",
       "      <th>color</th>\n",
       "      <th>name</th>\n",
       "      <th>area</th>\n",
       "      <th>county</th>\n",
       "      <th>winery</th>\n",
       "      <th>appelation</th>\n",
       "      <th>isava</th>\n",
       "      <th>year</th>\n",
       "      <th>drink</th>\n",
       "      <th>cases</th>\n",
       "      <th>price</th>\n",
       "      <th>score</th>\n",
       "    </tr>\n",
       "  </thead>\n",
       "  <tbody>\n",
       "    <tr>\n",
       "      <th>0</th>\n",
       "      <td>1</td>\n",
       "      <td>Zinfandel</td>\n",
       "      <td>Red</td>\n",
       "      <td>Old Kraft Vineyard</td>\n",
       "      <td>North Coast</td>\n",
       "      <td>Napa</td>\n",
       "      <td>Robert Biale</td>\n",
       "      <td>St. Helena</td>\n",
       "      <td>Yes</td>\n",
       "      <td>2008</td>\n",
       "      <td>now</td>\n",
       "      <td>275</td>\n",
       "      <td>44</td>\n",
       "      <td>93</td>\n",
       "    </tr>\n",
       "    <tr>\n",
       "      <th>1</th>\n",
       "      <td>2</td>\n",
       "      <td>Zinfandel</td>\n",
       "      <td>Red</td>\n",
       "      <td>Giana</td>\n",
       "      <td>North Coast</td>\n",
       "      <td>Napa</td>\n",
       "      <td>Chiarello Family</td>\n",
       "      <td>Napa Valley</td>\n",
       "      <td>Yes</td>\n",
       "      <td>2008</td>\n",
       "      <td>now</td>\n",
       "      <td>480</td>\n",
       "      <td>35</td>\n",
       "      <td>93</td>\n",
       "    </tr>\n",
       "    <tr>\n",
       "      <th>2</th>\n",
       "      <td>3</td>\n",
       "      <td>Zinfandel</td>\n",
       "      <td>Red</td>\n",
       "      <td>Black Chicken</td>\n",
       "      <td>North Coast</td>\n",
       "      <td>Napa</td>\n",
       "      <td>Robert Biale</td>\n",
       "      <td>Napa Valley</td>\n",
       "      <td>Yes</td>\n",
       "      <td>2008</td>\n",
       "      <td>later</td>\n",
       "      <td>2700</td>\n",
       "      <td>40</td>\n",
       "      <td>91</td>\n",
       "    </tr>\n",
       "    <tr>\n",
       "      <th>3</th>\n",
       "      <td>4</td>\n",
       "      <td>Zinfandel</td>\n",
       "      <td>Red</td>\n",
       "      <td>Napa Ranches</td>\n",
       "      <td>North Coast</td>\n",
       "      <td>Napa</td>\n",
       "      <td>Robert Biale</td>\n",
       "      <td>Napa Valley</td>\n",
       "      <td>Yes</td>\n",
       "      <td>2008</td>\n",
       "      <td>now</td>\n",
       "      <td>525</td>\n",
       "      <td>38</td>\n",
       "      <td>89</td>\n",
       "    </tr>\n",
       "    <tr>\n",
       "      <th>4</th>\n",
       "      <td>5</td>\n",
       "      <td>Zinfandel</td>\n",
       "      <td>Red</td>\n",
       "      <td>Varozza Vineyard</td>\n",
       "      <td>North Coast</td>\n",
       "      <td>Napa</td>\n",
       "      <td>Robert Biale</td>\n",
       "      <td>St. Helena</td>\n",
       "      <td>Yes</td>\n",
       "      <td>2008</td>\n",
       "      <td>later</td>\n",
       "      <td>275</td>\n",
       "      <td>44</td>\n",
       "      <td>88</td>\n",
       "    </tr>\n",
       "  </tbody>\n",
       "</table>\n",
       "</div>"
      ],
      "text/plain": [
       "   id      grape color                name         area county  \\\n",
       "0   1  Zinfandel   Red  Old Kraft Vineyard  North Coast   Napa   \n",
       "1   2  Zinfandel   Red               Giana  North Coast   Napa   \n",
       "2   3  Zinfandel   Red       Black Chicken  North Coast   Napa   \n",
       "3   4  Zinfandel   Red        Napa Ranches  North Coast   Napa   \n",
       "4   5  Zinfandel   Red    Varozza Vineyard  North Coast   Napa   \n",
       "\n",
       "             winery   appelation isava  year  drink  cases  price  score  \n",
       "0      Robert Biale   St. Helena   Yes  2008    now    275     44     93  \n",
       "1  Chiarello Family  Napa Valley   Yes  2008    now    480     35     93  \n",
       "2      Robert Biale  Napa Valley   Yes  2008  later   2700     40     91  \n",
       "3      Robert Biale  Napa Valley   Yes  2008    now    525     38     89  \n",
       "4      Robert Biale   St. Helena   Yes  2008  later    275     44     88  "
      ]
     },
     "execution_count": 26,
     "metadata": {},
     "output_type": "execute_result"
    }
   ],
   "source": [
    "df.head()"
   ]
  },
  {
   "cell_type": "markdown",
   "metadata": {},
   "source": [
    "#### Sanity Check"
   ]
  },
  {
   "cell_type": "code",
   "execution_count": 27,
   "metadata": {
    "collapsed": true
   },
   "outputs": [],
   "source": [
    "import scipy.stats as stat\n",
    "import matplotlib.pyplot as plt\n",
    "import numpy as np\n",
    "import seaborn as sns\n",
    "%matplotlib inline"
   ]
  },
  {
   "cell_type": "code",
   "execution_count": 28,
   "metadata": {
    "collapsed": false,
    "scrolled": true
   },
   "outputs": [
    {
     "data": {
      "text/html": [
       "<div>\n",
       "<table border=\"1\" class=\"dataframe\">\n",
       "  <thead>\n",
       "    <tr style=\"text-align: right;\">\n",
       "      <th></th>\n",
       "      <th></th>\n",
       "      <th>id</th>\n",
       "      <th>year</th>\n",
       "      <th>cases</th>\n",
       "      <th>price</th>\n",
       "      <th>score</th>\n",
       "    </tr>\n",
       "    <tr>\n",
       "      <th>area</th>\n",
       "      <th>county</th>\n",
       "      <th></th>\n",
       "      <th></th>\n",
       "      <th></th>\n",
       "      <th></th>\n",
       "      <th></th>\n",
       "    </tr>\n",
       "  </thead>\n",
       "  <tbody>\n",
       "    <tr>\n",
       "      <th>California</th>\n",
       "      <th>N/A</th>\n",
       "      <td>273.896552</td>\n",
       "      <td>2007.586207</td>\n",
       "      <td>19791.931034</td>\n",
       "      <td>39.482759</td>\n",
       "      <td>87.827586</td>\n",
       "    </tr>\n",
       "    <tr>\n",
       "      <th rowspan=\"5\" valign=\"top\">Central Coast</th>\n",
       "      <th>Monterey</th>\n",
       "      <td>191.125000</td>\n",
       "      <td>2008.083333</td>\n",
       "      <td>1966.166667</td>\n",
       "      <td>43.416667</td>\n",
       "      <td>91.083333</td>\n",
       "    </tr>\n",
       "    <tr>\n",
       "      <th>N/A</th>\n",
       "      <td>93.000000</td>\n",
       "      <td>2008.000000</td>\n",
       "      <td>36000.000000</td>\n",
       "      <td>13.000000</td>\n",
       "      <td>87.000000</td>\n",
       "    </tr>\n",
       "    <tr>\n",
       "      <th>San Benito</th>\n",
       "      <td>248.333333</td>\n",
       "      <td>2005.333333</td>\n",
       "      <td>776.000000</td>\n",
       "      <td>38.333333</td>\n",
       "      <td>90.666667</td>\n",
       "    </tr>\n",
       "    <tr>\n",
       "      <th>San Luis Obispo</th>\n",
       "      <td>272.050000</td>\n",
       "      <td>2007.550000</td>\n",
       "      <td>1669.300000</td>\n",
       "      <td>31.800000</td>\n",
       "      <td>88.950000</td>\n",
       "    </tr>\n",
       "    <tr>\n",
       "      <th>Santa Barbara</th>\n",
       "      <td>158.612245</td>\n",
       "      <td>2007.816327</td>\n",
       "      <td>1816.571429</td>\n",
       "      <td>40.591837</td>\n",
       "      <td>89.836735</td>\n",
       "    </tr>\n",
       "    <tr>\n",
       "      <th rowspan=\"2\" valign=\"top\">Central Valley</th>\n",
       "      <th>San Joaquin</th>\n",
       "      <td>280.500000</td>\n",
       "      <td>2006.500000</td>\n",
       "      <td>10225.000000</td>\n",
       "      <td>21.500000</td>\n",
       "      <td>87.500000</td>\n",
       "    </tr>\n",
       "    <tr>\n",
       "      <th>Yolo</th>\n",
       "      <td>214.000000</td>\n",
       "      <td>2005.000000</td>\n",
       "      <td>1125.000000</td>\n",
       "      <td>25.000000</td>\n",
       "      <td>91.000000</td>\n",
       "    </tr>\n",
       "    <tr>\n",
       "      <th>N/A</th>\n",
       "      <th>N/A</th>\n",
       "      <td>483.000000</td>\n",
       "      <td>2008.000000</td>\n",
       "      <td>5856.000000</td>\n",
       "      <td>18.000000</td>\n",
       "      <td>87.000000</td>\n",
       "    </tr>\n",
       "    <tr>\n",
       "      <th rowspan=\"6\" valign=\"top\">North Coast</th>\n",
       "      <th>Lake</th>\n",
       "      <td>296.375000</td>\n",
       "      <td>2006.875000</td>\n",
       "      <td>980.375000</td>\n",
       "      <td>31.000000</td>\n",
       "      <td>87.875000</td>\n",
       "    </tr>\n",
       "    <tr>\n",
       "      <th>Mendocino</th>\n",
       "      <td>268.666667</td>\n",
       "      <td>2006.500000</td>\n",
       "      <td>5533.000000</td>\n",
       "      <td>34.333333</td>\n",
       "      <td>89.333333</td>\n",
       "    </tr>\n",
       "    <tr>\n",
       "      <th>N/A</th>\n",
       "      <td>172.000000</td>\n",
       "      <td>2007.666667</td>\n",
       "      <td>12033.333333</td>\n",
       "      <td>15.000000</td>\n",
       "      <td>85.666667</td>\n",
       "    </tr>\n",
       "    <tr>\n",
       "      <th>Napa</th>\n",
       "      <td>244.335570</td>\n",
       "      <td>2006.966443</td>\n",
       "      <td>4149.973154</td>\n",
       "      <td>57.476510</td>\n",
       "      <td>90.416107</td>\n",
       "    </tr>\n",
       "    <tr>\n",
       "      <th>Solano</th>\n",
       "      <td>172.000000</td>\n",
       "      <td>2007.000000</td>\n",
       "      <td>735.000000</td>\n",
       "      <td>35.000000</td>\n",
       "      <td>89.000000</td>\n",
       "    </tr>\n",
       "    <tr>\n",
       "      <th>Sonoma</th>\n",
       "      <td>269.596774</td>\n",
       "      <td>2007.424731</td>\n",
       "      <td>3353.193548</td>\n",
       "      <td>43.500000</td>\n",
       "      <td>90.618280</td>\n",
       "    </tr>\n",
       "    <tr>\n",
       "      <th rowspan=\"3\" valign=\"top\">Santa Cruz Mountains</th>\n",
       "      <th>Alameda</th>\n",
       "      <td>464.000000</td>\n",
       "      <td>2007.000000</td>\n",
       "      <td>456.000000</td>\n",
       "      <td>40.000000</td>\n",
       "      <td>89.000000</td>\n",
       "    </tr>\n",
       "    <tr>\n",
       "      <th>Contra Costa</th>\n",
       "      <td>463.600000</td>\n",
       "      <td>2007.400000</td>\n",
       "      <td>1429.800000</td>\n",
       "      <td>27.800000</td>\n",
       "      <td>87.200000</td>\n",
       "    </tr>\n",
       "    <tr>\n",
       "      <th>N/A</th>\n",
       "      <td>269.000000</td>\n",
       "      <td>2007.000000</td>\n",
       "      <td>400.000000</td>\n",
       "      <td>40.000000</td>\n",
       "      <td>93.000000</td>\n",
       "    </tr>\n",
       "    <tr>\n",
       "      <th rowspan=\"3\" valign=\"top\">Sierra Foothills</th>\n",
       "      <th>Amador</th>\n",
       "      <td>295.375000</td>\n",
       "      <td>2006.625000</td>\n",
       "      <td>3249.000000</td>\n",
       "      <td>29.875000</td>\n",
       "      <td>88.000000</td>\n",
       "    </tr>\n",
       "    <tr>\n",
       "      <th>Calaveras</th>\n",
       "      <td>386.000000</td>\n",
       "      <td>2006.000000</td>\n",
       "      <td>0.000000</td>\n",
       "      <td>20.000000</td>\n",
       "      <td>84.000000</td>\n",
       "    </tr>\n",
       "    <tr>\n",
       "      <th>N/A</th>\n",
       "      <td>389.000000</td>\n",
       "      <td>2006.000000</td>\n",
       "      <td>0.000000</td>\n",
       "      <td>10.000000</td>\n",
       "      <td>82.000000</td>\n",
       "    </tr>\n",
       "  </tbody>\n",
       "</table>\n",
       "</div>"
      ],
      "text/plain": [
       "                                              id         year         cases  \\\n",
       "area                 county                                                   \n",
       "California           N/A              273.896552  2007.586207  19791.931034   \n",
       "Central Coast        Monterey         191.125000  2008.083333   1966.166667   \n",
       "                     N/A               93.000000  2008.000000  36000.000000   \n",
       "                     San Benito       248.333333  2005.333333    776.000000   \n",
       "                     San Luis Obispo  272.050000  2007.550000   1669.300000   \n",
       "                     Santa Barbara    158.612245  2007.816327   1816.571429   \n",
       "Central Valley       San Joaquin      280.500000  2006.500000  10225.000000   \n",
       "                     Yolo             214.000000  2005.000000   1125.000000   \n",
       "N/A                  N/A              483.000000  2008.000000   5856.000000   \n",
       "North Coast          Lake             296.375000  2006.875000    980.375000   \n",
       "                     Mendocino        268.666667  2006.500000   5533.000000   \n",
       "                     N/A              172.000000  2007.666667  12033.333333   \n",
       "                     Napa             244.335570  2006.966443   4149.973154   \n",
       "                     Solano           172.000000  2007.000000    735.000000   \n",
       "                     Sonoma           269.596774  2007.424731   3353.193548   \n",
       "Santa Cruz Mountains Alameda          464.000000  2007.000000    456.000000   \n",
       "                     Contra Costa     463.600000  2007.400000   1429.800000   \n",
       "                     N/A              269.000000  2007.000000    400.000000   \n",
       "Sierra Foothills     Amador           295.375000  2006.625000   3249.000000   \n",
       "                     Calaveras        386.000000  2006.000000      0.000000   \n",
       "                     N/A              389.000000  2006.000000      0.000000   \n",
       "\n",
       "                                          price      score  \n",
       "area                 county                                 \n",
       "California           N/A              39.482759  87.827586  \n",
       "Central Coast        Monterey         43.416667  91.083333  \n",
       "                     N/A              13.000000  87.000000  \n",
       "                     San Benito       38.333333  90.666667  \n",
       "                     San Luis Obispo  31.800000  88.950000  \n",
       "                     Santa Barbara    40.591837  89.836735  \n",
       "Central Valley       San Joaquin      21.500000  87.500000  \n",
       "                     Yolo             25.000000  91.000000  \n",
       "N/A                  N/A              18.000000  87.000000  \n",
       "North Coast          Lake             31.000000  87.875000  \n",
       "                     Mendocino        34.333333  89.333333  \n",
       "                     N/A              15.000000  85.666667  \n",
       "                     Napa             57.476510  90.416107  \n",
       "                     Solano           35.000000  89.000000  \n",
       "                     Sonoma           43.500000  90.618280  \n",
       "Santa Cruz Mountains Alameda          40.000000  89.000000  \n",
       "                     Contra Costa     27.800000  87.200000  \n",
       "                     N/A              40.000000  93.000000  \n",
       "Sierra Foothills     Amador           29.875000  88.000000  \n",
       "                     Calaveras        20.000000  84.000000  \n",
       "                     N/A              10.000000  82.000000  "
      ]
     },
     "execution_count": 28,
     "metadata": {},
     "output_type": "execute_result"
    }
   ],
   "source": [
    "df.groupby(['area','county']).mean()"
   ]
  },
  {
   "cell_type": "markdown",
   "metadata": {},
   "source": [
    "#### Check the distribution of price and score"
   ]
  },
  {
   "cell_type": "code",
   "execution_count": 29,
   "metadata": {
    "collapsed": false,
    "scrolled": false
   },
   "outputs": [
    {
     "data": {
      "image/png": "[encoded data removed]",
      "text/plain": [
       "<matplotlib.figure.Figure at 0x7f0808bbb1d0>"
      ]
     },
     "metadata": {},
     "output_type": "display_data"
    }
   ],
   "source": [
    "fig,ax = plt.subplots(1,2,figsize=(10,3))\n",
    "ax[0].hist(df.score)\n",
    "ax[0].set_xlabel('score')\n",
    "ax[1].hist(df.price)\n",
    "ax[1].set_xlabel('price');"
   ]
  },
  {
   "cell_type": "code",
   "execution_count": 30,
   "metadata": {
    "collapsed": false,
    "scrolled": true
   },
   "outputs": [
    {
     "data": {
      "text/plain": [
       "(0.8181392550468445,\n",
       " 2.3269743251562505e-23,\n",
       " 0.9752002954483032,\n",
       " 1.703658654150786e-07)"
      ]
     },
     "execution_count": 30,
     "metadata": {},
     "output_type": "execute_result"
    }
   ],
   "source": [
    "w_price,p_price = stat.shapiro(df.price)\n",
    "w_score,p_score = stat.shapiro(df.score)\n",
    "w_price,p_price,w_score,p_score"
   ]
  },
  {
   "cell_type": "markdown",
   "metadata": {},
   "source": [
    "Both score and price data are not distributed normally. Price data is positively skewed. "
   ]
  },
  {
   "cell_type": "markdown",
   "metadata": {},
   "source": [
    "## 1 - General Look to Grape and Wine Production"
   ]
  },
  {
   "cell_type": "markdown",
   "metadata": {},
   "source": [
    "### 1. a. Price Analysis"
   ]
  },
  {
   "cell_type": "markdown",
   "metadata": {},
   "source": [
    "#### By Area"
   ]
  },
  {
   "cell_type": "code",
   "execution_count": 31,
   "metadata": {
    "collapsed": false
   },
   "outputs": [
    {
     "data": {
      "image/png": "[encoded data removed]",
      "text/plain": [
       "<matplotlib.figure.Figure at 0x7f08065e0fd0>"
      ]
     },
     "metadata": {},
     "output_type": "display_data"
    }
   ],
   "source": [
    "fig,ax = plt.subplots(figsize=(14,4))\n",
    "ax.set_title('Distributions of Prices by Areas')\n",
    "ax.boxplot([df[df.area == 'California']['price'].values,\n",
    "            df[df.area == 'Central Coast']['price'].values,\n",
    "            df[df.area == 'Central Valley']['price'].values,\n",
    "            df[df.area == 'North Coast']['price'].values,\n",
    "            df[df.area == 'Santa Cruz Mountains']['price'].values,\n",
    "            df[df.area == 'Sierra Foothills']['price'].values]\n",
    "           ,0,'gd',0,\n",
    "           labels=['Others','Central Coast','Central Valley',\n",
    "                             'North Coast','Santa Cruz Mountains','Sierra Foothills'],\n",
    "           whis=1.5);"
   ]
  },
  {
   "cell_type": "markdown",
   "metadata": {},
   "source": [
    "The most expensive wines are from the North Coast and Central Coast respectively. There are several outliers from the North Coast data which increases the overall prices greately. In addition, the data is highly skewed and not eligable for t-test."
   ]
  },
  {
   "cell_type": "markdown",
   "metadata": {},
   "source": [
    "#### Drink Advice: Fresh or Mature"
   ]
  },
  {
   "cell_type": "code",
   "execution_count": 32,
   "metadata": {
    "collapsed": false
   },
   "outputs": [
    {
     "data": {
      "text/html": [
       "<div>\n",
       "<table border=\"1\" class=\"dataframe\">\n",
       "  <thead>\n",
       "    <tr style=\"text-align: right;\">\n",
       "      <th></th>\n",
       "      <th>id</th>\n",
       "      <th>year</th>\n",
       "      <th>cases</th>\n",
       "      <th>price</th>\n",
       "      <th>score</th>\n",
       "    </tr>\n",
       "    <tr>\n",
       "      <th>drink</th>\n",
       "      <th></th>\n",
       "      <th></th>\n",
       "      <th></th>\n",
       "      <th></th>\n",
       "      <th></th>\n",
       "    </tr>\n",
       "  </thead>\n",
       "  <tbody>\n",
       "    <tr>\n",
       "      <th>later</th>\n",
       "      <td>218.000000</td>\n",
       "      <td>2007.058824</td>\n",
       "      <td>1144.411765</td>\n",
       "      <td>70.411765</td>\n",
       "      <td>91.441176</td>\n",
       "    </tr>\n",
       "    <tr>\n",
       "      <th>now</th>\n",
       "      <td>252.871245</td>\n",
       "      <td>2007.332618</td>\n",
       "      <td>4558.613734</td>\n",
       "      <td>43.581545</td>\n",
       "      <td>89.950644</td>\n",
       "    </tr>\n",
       "  </tbody>\n",
       "</table>\n",
       "</div>"
      ],
      "text/plain": [
       "               id         year        cases      price      score\n",
       "drink                                                            \n",
       "later  218.000000  2007.058824  1144.411765  70.411765  91.441176\n",
       "now    252.871245  2007.332618  4558.613734  43.581545  89.950644"
      ]
     },
     "execution_count": 32,
     "metadata": {},
     "output_type": "execute_result"
    }
   ],
   "source": [
    "df.groupby('drink').mean()"
   ]
  },
  {
   "cell_type": "code",
   "execution_count": 33,
   "metadata": {
    "collapsed": false,
    "scrolled": true
   },
   "outputs": [
    {
     "data": {
      "image/png": "[encoded data removed]",
      "text/plain": [
       "<matplotlib.figure.Figure at 0x7f0808e65c90>"
      ]
     },
     "metadata": {},
     "output_type": "display_data"
    }
   ],
   "source": [
    "plt.hist(df[df.drink == 'now'].price,normed=True,alpha=.7)\n",
    "plt.hist(df[df.drink == 'later'].price,normed=True,alpha=.7)\n",
    "plt.legend(['Now','Later'])\n",
    "plt.title('Prices by Drink Advice');"
   ]
  },
  {
   "cell_type": "markdown",
   "metadata": {},
   "source": [
    "Wines that should be consumed later, when they mature, seems to be more expansive than the wines thath should be consumed now, fresh in other words."
   ]
  },
  {
   "cell_type": "markdown",
   "metadata": {},
   "source": [
    "### 1. b. Score Analysis"
   ]
  },
  {
   "cell_type": "markdown",
   "metadata": {},
   "source": [
    "#### By Area"
   ]
  },
  {
   "cell_type": "code",
   "execution_count": 34,
   "metadata": {
    "collapsed": false
   },
   "outputs": [
    {
     "data": {
      "image/png": "[encoded data removed]",
      "text/plain": [
       "<matplotlib.figure.Figure at 0x7f0805ddb510>"
      ]
     },
     "metadata": {},
     "output_type": "display_data"
    }
   ],
   "source": [
    "fig,ax = plt.subplots(figsize=(14,4))\n",
    "ax.set_title('Distributions of Scores by Areas')\n",
    "ax.boxplot([df[df.area == 'California']['score'].values,\n",
    "            df[df.area == 'Central Coast']['score'].values,\n",
    "            df[df.area == 'Central Valley']['score'].values,\n",
    "            df[df.area == 'North Coast']['score'].values,\n",
    "            df[df.area == 'Santa Cruz Mountains']['score'].values,\n",
    "            df[df.area == 'Sierra Foothills']['score'].values]\n",
    "           ,0,'gd',0,\n",
    "           labels=['Others','Central Coast','Central Valley',\n",
    "                             'North Coast','Santa Cruz Mountains','Sierra Foothills'],\n",
    "           whis=1.5);"
   ]
  },
  {
   "cell_type": "code",
   "execution_count": 35,
   "metadata": {
    "collapsed": false,
    "scrolled": false
   },
   "outputs": [
    {
     "name": "stdout",
     "output_type": "stream",
     "text": [
      "3.7799 0.0002 North Coast\n",
      "-0.349 0.7276 Central Coast\n",
      "-3.1792 0.0034 California\n",
      "-1.9252 0.0859 Sierra Foothills\n",
      "-2.0467 0.0845 Santa Cruz Mountains\n"
     ]
    }
   ],
   "source": [
    "# Null Hypothesis: Wines produced in different areas does not differ by score\n",
    "for e in df['area'].unique():\n",
    "    if np.sum(df['area']==e) > 5:\n",
    "        t,p = stat.ttest_ind(df[df.area == e]['score'],df[df.area != e]['score'], equal_var = False)\n",
    "        print round(t,4),round(p,4),e\n"
   ]
  },
  {
   "cell_type": "markdown",
   "metadata": {},
   "source": [
    "North Coast wines have significantly better scores. California represents wines from wide variety of areas, so cannot comment on the data."
   ]
  },
  {
   "cell_type": "markdown",
   "metadata": {},
   "source": [
    "#### By County"
   ]
  },
  {
   "cell_type": "code",
   "execution_count": 36,
   "metadata": {
    "collapsed": false,
    "scrolled": true
   },
   "outputs": [
    {
     "name": "stdout",
     "output_type": "stream",
     "text": [
      "1.9017 0.0581 Napa\n",
      "3.4943 0.0005 Sonoma\n",
      "-0.5577 0.5791 Santa Barbara\n",
      "-4.1019 0.0002 N/A\n",
      "1.7243 0.0969 Monterey\n",
      "-1.707 0.1028 San Luis Obispo\n"
     ]
    }
   ],
   "source": [
    "# Null Hypothesis: Wines produced in different counties does not differ by score\n",
    "for e in df['county'].unique():\n",
    "    if np.sum(df['county']==e) > 10:\n",
    "        t,p = stat.ttest_ind(df[df.county == e]['score'],df[df.county != e]['score'], equal_var = False)\n",
    "        print round(t,4),round(p,4),e"
   ]
  },
  {
   "cell_type": "markdown",
   "metadata": {},
   "source": [
    "Sonoma County's wines have significanty higher scores. N/A  represents data from vide variety of  counties, so cannot comment on the data."
   ]
  },
  {
   "cell_type": "markdown",
   "metadata": {},
   "source": [
    "### 1. c. Quality Analysis: Fresh or Mature"
   ]
  },
  {
   "cell_type": "code",
   "execution_count": 37,
   "metadata": {
    "collapsed": false
   },
   "outputs": [
    {
     "data": {
      "image/png": "[encoded data removed]",
      "text/plain": [
       "<matplotlib.figure.Figure at 0x7f0805db07d0>"
      ]
     },
     "metadata": {},
     "output_type": "display_data"
    }
   ],
   "source": [
    "plt.hist(df[df.drink == 'now'].score,normed=True,alpha=.7)\n",
    "plt.hist(df[df.drink == 'later'].score,normed=True,alpha=.7)\n",
    "plt.legend(['Now','Later'])\n",
    "plt.title('Scores by Drink Advice');"
   ]
  },
  {
   "cell_type": "code",
   "execution_count": 38,
   "metadata": {
    "collapsed": false
   },
   "outputs": [
    {
     "data": {
      "text/plain": [
       "(-3.1243476867714937, 0.0033491413527652904)"
      ]
     },
     "execution_count": 38,
     "metadata": {},
     "output_type": "execute_result"
    }
   ],
   "source": [
    "# Null Hypothesis: Wines that sould be consumed fresh and mature have same scores overall\n",
    "t,p = stat.ttest_ind(df[df.drink == 'now'].score,df[df.drink == 'later'].score, equal_var = False)\n",
    "t,p"
   ]
  },
  {
   "cell_type": "markdown",
   "metadata": {},
   "source": [
    "Evidence show that wines which should be consumed later (mature) have significantly higher scores than wines that should be consumed freshly."
   ]
  },
  {
   "cell_type": "markdown",
   "metadata": {},
   "source": [
    "### 1. d. Production Analysis"
   ]
  },
  {
   "cell_type": "code",
   "execution_count": 39,
   "metadata": {
    "collapsed": false,
    "scrolled": true
   },
   "outputs": [
    {
     "data": {
      "image/png": "[encoded data removed]",
      "text/plain": [
       "<matplotlib.figure.Figure at 0x7f0805e1a190>"
      ]
     },
     "metadata": {},
     "output_type": "display_data"
    }
   ],
   "source": [
    "plt.hist(df.cases[df.cases<10000],bins=30);"
   ]
  },
  {
   "cell_type": "markdown",
   "metadata": {},
   "source": [
    "Data is higly skewed to the right and has lots of outliers. So a simple heuristic will do."
   ]
  },
  {
   "cell_type": "code",
   "execution_count": 40,
   "metadata": {
    "collapsed": false
   },
   "outputs": [
    {
     "data": {
      "image/png": "[encoded data removed]",
      "text/plain": [
       "<matplotlib.figure.Figure at 0x7f0805c4c210>"
      ]
     },
     "metadata": {},
     "output_type": "display_data"
    }
   ],
   "source": [
    "fig,ax = plt.subplots(1,2,figsize=(14,5))\n",
    "ax[0].scatter(df[df.cases>0].cases,df[df.cases>0].score);\n",
    "ax[0].set_xlabel('cases')\n",
    "ax[0].set_ylabel('score')\n",
    "ax[1].scatter(df[df.cases>0].cases,df[df.cases>0].price);\n",
    "ax[1].set_xlabel('cases')\n",
    "ax[1].set_ylabel('price');"
   ]
  },
  {
   "cell_type": "markdown",
   "metadata": {},
   "source": [
    "There are no obvious relationship between production volume & score, and production volume & prices"
   ]
  },
  {
   "cell_type": "markdown",
   "metadata": {},
   "source": [
    "## 2. AVA wines are better?"
   ]
  },
  {
   "cell_type": "code",
   "execution_count": 41,
   "metadata": {
    "collapsed": false
   },
   "outputs": [
    {
     "data": {
      "image/png": "[encoded data removed]",
      "text/plain": [
       "<matplotlib.figure.Figure at 0x7f0805c8a9d0>"
      ]
     },
     "metadata": {},
     "output_type": "display_data"
    }
   ],
   "source": [
    "plt.scatter(df[df.cases>0].price,df[df.cases>0].cases);"
   ]
  },
  {
   "cell_type": "code",
   "execution_count": 42,
   "metadata": {
    "collapsed": false
   },
   "outputs": [
    {
     "data": {
      "text/html": [
       "<div>\n",
       "<table border=\"1\" class=\"dataframe\">\n",
       "  <thead>\n",
       "    <tr style=\"text-align: right;\">\n",
       "      <th></th>\n",
       "      <th>id</th>\n",
       "      <th>year</th>\n",
       "      <th>cases</th>\n",
       "      <th>price</th>\n",
       "      <th>score</th>\n",
       "    </tr>\n",
       "    <tr>\n",
       "      <th>isava</th>\n",
       "      <th></th>\n",
       "      <th></th>\n",
       "      <th></th>\n",
       "      <th></th>\n",
       "      <th></th>\n",
       "    </tr>\n",
       "  </thead>\n",
       "  <tbody>\n",
       "    <tr>\n",
       "      <th>No</th>\n",
       "      <td>279.916667</td>\n",
       "      <td>2007.281250</td>\n",
       "      <td>10759.93750</td>\n",
       "      <td>35.239583</td>\n",
       "      <td>88.802083</td>\n",
       "    </tr>\n",
       "    <tr>\n",
       "      <th>Yes</th>\n",
       "      <td>243.509901</td>\n",
       "      <td>2007.321782</td>\n",
       "      <td>2797.69802</td>\n",
       "      <td>47.821782</td>\n",
       "      <td>90.349010</td>\n",
       "    </tr>\n",
       "  </tbody>\n",
       "</table>\n",
       "</div>"
      ],
      "text/plain": [
       "               id         year        cases      price      score\n",
       "isava                                                            \n",
       "No     279.916667  2007.281250  10759.93750  35.239583  88.802083\n",
       "Yes    243.509901  2007.321782   2797.69802  47.821782  90.349010"
      ]
     },
     "execution_count": 42,
     "metadata": {},
     "output_type": "execute_result"
    }
   ],
   "source": [
    "df.groupby('isava').mean()"
   ]
  },
  {
   "cell_type": "code",
   "execution_count": 43,
   "metadata": {
    "collapsed": false
   },
   "outputs": [
    {
     "data": {
      "image/png": "[encoded data removed]",
      "text/plain": [
       "<matplotlib.figure.Figure at 0x7f0805a0cdd0>"
      ]
     },
     "metadata": {},
     "output_type": "display_data"
    }
   ],
   "source": [
    "fig,ax = plt.subplots(1,2,figsize=(14,5))\n",
    "ax[0].hist(df[df.isava=='Yes']['score'],normed=True,alpha=.7)\n",
    "ax[0].hist(df[df.isava=='No']['score'],normed=True,alpha=.7)\n",
    "ax[0].legend(['AVA','Other'])\n",
    "ax[0].set_title('Score')\n",
    "ax[1].hist(df[df.isava=='Yes']['price'],normed=True,alpha=.7)\n",
    "ax[1].hist(df[df.isava=='No']['price'],normed=True,alpha=.7)\n",
    "ax[1].legend(['AVA','Other'])\n",
    "ax[1].set_title('Price');"
   ]
  },
  {
   "cell_type": "code",
   "execution_count": 44,
   "metadata": {
    "collapsed": false
   },
   "outputs": [
    {
     "name": "stdout",
     "output_type": "stream",
     "text": [
      "4.2587 0.0\n"
     ]
    }
   ],
   "source": [
    "# Null Hypothesis: Wines produced from AVA grapes and other area's grapes score the same\n",
    "t,p = stat.ttest_ind(df[df.isava == 'Yes']['score'],df[df.isava == 'No']['score'], equal_var = False)\n",
    "print round(t,4),round(p,4)"
   ]
  },
  {
   "cell_type": "code",
   "execution_count": 45,
   "metadata": {
    "collapsed": false
   },
   "outputs": [
    {
     "name": "stdout",
     "output_type": "stream",
     "text": [
      "4.1864 0.0\n"
     ]
    }
   ],
   "source": [
    "# Null Hypothesis: Wines produced from AVA grapes and other area's grapes value the same\n",
    "t,p = stat.ttest_ind(df[df.isava == 'Yes']['price'],df[df.isava == 'No']['price'], equal_var = False)\n",
    "print round(t,4),round(p,4)"
   ]
  },
  {
   "cell_type": "markdown",
   "metadata": {},
   "source": [
    "Wines produced from AVA grapes are significantly more expensive and have higher scores than wines with the other grapes."
   ]
  },
  {
   "cell_type": "markdown",
   "metadata": {},
   "source": [
    "## 3. Comparing Red and White Wines"
   ]
  },
  {
   "cell_type": "code",
   "execution_count": 46,
   "metadata": {
    "collapsed": false
   },
   "outputs": [
    {
     "data": {
      "text/html": [
       "<div>\n",
       "<table border=\"1\" class=\"dataframe\">\n",
       "  <thead>\n",
       "    <tr style=\"text-align: right;\">\n",
       "      <th></th>\n",
       "      <th>id</th>\n",
       "      <th>year</th>\n",
       "      <th>cases</th>\n",
       "      <th>price</th>\n",
       "      <th>score</th>\n",
       "    </tr>\n",
       "    <tr>\n",
       "      <th>color</th>\n",
       "      <th></th>\n",
       "      <th></th>\n",
       "      <th></th>\n",
       "      <th></th>\n",
       "      <th></th>\n",
       "    </tr>\n",
       "  </thead>\n",
       "  <tbody>\n",
       "    <tr>\n",
       "      <th>Red</th>\n",
       "      <td>258.112392</td>\n",
       "      <td>2007.314121</td>\n",
       "      <td>2984.167147</td>\n",
       "      <td>49.178674</td>\n",
       "      <td>89.988473</td>\n",
       "    </tr>\n",
       "    <tr>\n",
       "      <th>White</th>\n",
       "      <td>233.235294</td>\n",
       "      <td>2007.313725</td>\n",
       "      <td>7370.705882</td>\n",
       "      <td>36.849673</td>\n",
       "      <td>90.196078</td>\n",
       "    </tr>\n",
       "  </tbody>\n",
       "</table>\n",
       "</div>"
      ],
      "text/plain": [
       "               id         year        cases      price      score\n",
       "color                                                            \n",
       "Red    258.112392  2007.314121  2984.167147  49.178674  89.988473\n",
       "White  233.235294  2007.313725  7370.705882  36.849673  90.196078"
      ]
     },
     "execution_count": 46,
     "metadata": {},
     "output_type": "execute_result"
    }
   ],
   "source": [
    "df.groupby('color').mean()"
   ]
  },
  {
   "cell_type": "code",
   "execution_count": 47,
   "metadata": {
    "collapsed": false
   },
   "outputs": [
    {
     "data": {
      "image/png": "[encoded data removed]",
      "text/plain": [
       "<matplotlib.figure.Figure at 0x7f080576a650>"
      ]
     },
     "metadata": {},
     "output_type": "display_data"
    }
   ],
   "source": [
    "fig,ax = plt.subplots(1,2,figsize=(14,5))\n",
    "ax[0].hist(df[df.color=='Red']['score'],normed=True,alpha=.7)\n",
    "ax[0].hist(df[df.color=='White']['score'],normed=True,alpha=.7)\n",
    "ax[0].legend(['Red','White'])\n",
    "ax[0].set_title('Score')\n",
    "ax[1].hist(df[df.color=='Red']['price'],normed=True,alpha=.7)\n",
    "ax[1].hist(df[df.color=='White']['price'],normed=True,alpha=.7)\n",
    "ax[1].legend(['Red','White'])\n",
    "ax[1].set_title('Price');"
   ]
  },
  {
   "cell_type": "code",
   "execution_count": 48,
   "metadata": {
    "collapsed": false
   },
   "outputs": [
    {
     "name": "stdout",
     "output_type": "stream",
     "text": [
      "-0.7799 0.436\n"
     ]
    }
   ],
   "source": [
    "# Null Hypothesis: White wines and red wines have same scores\n",
    "t,p = stat.ttest_ind(df[df.color == 'Red']['score'],df[df.color == 'White']['score'], equal_var = False)\n",
    "print round(t,4),round(p,4)"
   ]
  },
  {
   "cell_type": "code",
   "execution_count": 49,
   "metadata": {
    "collapsed": false
   },
   "outputs": [
    {
     "name": "stdout",
     "output_type": "stream",
     "text": [
      "5.3845 0.0\n"
     ]
    }
   ],
   "source": [
    "# Null Hypothesis: White wines and red wines cost the same\n",
    "t,p = stat.ttest_ind(df[df.color == 'Red']['price'],df[df.color == 'White']['price'], equal_var = False)\n",
    "print round(t,4),round(p,4)"
   ]
  },
  {
   "cell_type": "markdown",
   "metadata": {},
   "source": [
    "There is no statistically significant results that states white and red wines have the same scores.\n",
    "On the other hand, red wines are statistically more expensive than the white wines."
   ]
  },
  {
   "cell_type": "markdown",
   "metadata": {},
   "source": [
    "# D - Preaparing the Data for Predictive Analysis"
   ]
  },
  {
   "cell_type": "code",
   "execution_count": 50,
   "metadata": {
    "collapsed": false
   },
   "outputs": [],
   "source": [
    "# create binary values for score by using median\n",
    "df['score_bin'] = pd.get_dummies(df.score>90).values[:,1]"
   ]
  },
  {
   "cell_type": "code",
   "execution_count": 51,
   "metadata": {
    "collapsed": false,
    "scrolled": true
   },
   "outputs": [
    {
     "data": {
      "text/html": [
       "<div>\n",
       "<table border=\"1\" class=\"dataframe\">\n",
       "  <thead>\n",
       "    <tr style=\"text-align: right;\">\n",
       "      <th></th>\n",
       "      <th>grape_Barbera</th>\n",
       "      <th>grape_Cabernet Franc</th>\n",
       "      <th>grape_Cabernet Sauvingnon</th>\n",
       "      <th>grape_Chardonnay</th>\n",
       "      <th>grape_Grenache</th>\n",
       "      <th>grape_Malbec</th>\n",
       "      <th>grape_Marsanne</th>\n",
       "      <th>grape_Merlot</th>\n",
       "      <th>grape_Petite Sirah</th>\n",
       "      <th>grape_Pinot Noir</th>\n",
       "      <th>...</th>\n",
       "      <th>county_Santa Barbara</th>\n",
       "      <th>county_Solano</th>\n",
       "      <th>county_Sonoma</th>\n",
       "      <th>county_Yolo</th>\n",
       "      <th>AVA_Yes</th>\n",
       "      <th>drink_later</th>\n",
       "      <th>cases</th>\n",
       "      <th>price</th>\n",
       "      <th>score</th>\n",
       "      <th>score_bin</th>\n",
       "    </tr>\n",
       "  </thead>\n",
       "  <tbody>\n",
       "    <tr>\n",
       "      <th>0</th>\n",
       "      <td>0.0</td>\n",
       "      <td>0.0</td>\n",
       "      <td>0.0</td>\n",
       "      <td>0.0</td>\n",
       "      <td>0.0</td>\n",
       "      <td>0.0</td>\n",
       "      <td>0.0</td>\n",
       "      <td>0.0</td>\n",
       "      <td>0.0</td>\n",
       "      <td>0.0</td>\n",
       "      <td>...</td>\n",
       "      <td>0.0</td>\n",
       "      <td>0.0</td>\n",
       "      <td>0.0</td>\n",
       "      <td>0.0</td>\n",
       "      <td>1.0</td>\n",
       "      <td>0.0</td>\n",
       "      <td>275</td>\n",
       "      <td>44</td>\n",
       "      <td>93</td>\n",
       "      <td>1.0</td>\n",
       "    </tr>\n",
       "    <tr>\n",
       "      <th>1</th>\n",
       "      <td>0.0</td>\n",
       "      <td>0.0</td>\n",
       "      <td>0.0</td>\n",
       "      <td>0.0</td>\n",
       "      <td>0.0</td>\n",
       "      <td>0.0</td>\n",
       "      <td>0.0</td>\n",
       "      <td>0.0</td>\n",
       "      <td>0.0</td>\n",
       "      <td>0.0</td>\n",
       "      <td>...</td>\n",
       "      <td>0.0</td>\n",
       "      <td>0.0</td>\n",
       "      <td>0.0</td>\n",
       "      <td>0.0</td>\n",
       "      <td>1.0</td>\n",
       "      <td>0.0</td>\n",
       "      <td>480</td>\n",
       "      <td>35</td>\n",
       "      <td>93</td>\n",
       "      <td>1.0</td>\n",
       "    </tr>\n",
       "    <tr>\n",
       "      <th>2</th>\n",
       "      <td>0.0</td>\n",
       "      <td>0.0</td>\n",
       "      <td>0.0</td>\n",
       "      <td>0.0</td>\n",
       "      <td>0.0</td>\n",
       "      <td>0.0</td>\n",
       "      <td>0.0</td>\n",
       "      <td>0.0</td>\n",
       "      <td>0.0</td>\n",
       "      <td>0.0</td>\n",
       "      <td>...</td>\n",
       "      <td>0.0</td>\n",
       "      <td>0.0</td>\n",
       "      <td>0.0</td>\n",
       "      <td>0.0</td>\n",
       "      <td>1.0</td>\n",
       "      <td>1.0</td>\n",
       "      <td>2700</td>\n",
       "      <td>40</td>\n",
       "      <td>91</td>\n",
       "      <td>1.0</td>\n",
       "    </tr>\n",
       "    <tr>\n",
       "      <th>3</th>\n",
       "      <td>0.0</td>\n",
       "      <td>0.0</td>\n",
       "      <td>0.0</td>\n",
       "      <td>0.0</td>\n",
       "      <td>0.0</td>\n",
       "      <td>0.0</td>\n",
       "      <td>0.0</td>\n",
       "      <td>0.0</td>\n",
       "      <td>0.0</td>\n",
       "      <td>0.0</td>\n",
       "      <td>...</td>\n",
       "      <td>0.0</td>\n",
       "      <td>0.0</td>\n",
       "      <td>0.0</td>\n",
       "      <td>0.0</td>\n",
       "      <td>1.0</td>\n",
       "      <td>0.0</td>\n",
       "      <td>525</td>\n",
       "      <td>38</td>\n",
       "      <td>89</td>\n",
       "      <td>0.0</td>\n",
       "    </tr>\n",
       "    <tr>\n",
       "      <th>4</th>\n",
       "      <td>0.0</td>\n",
       "      <td>0.0</td>\n",
       "      <td>0.0</td>\n",
       "      <td>0.0</td>\n",
       "      <td>0.0</td>\n",
       "      <td>0.0</td>\n",
       "      <td>0.0</td>\n",
       "      <td>0.0</td>\n",
       "      <td>0.0</td>\n",
       "      <td>0.0</td>\n",
       "      <td>...</td>\n",
       "      <td>0.0</td>\n",
       "      <td>0.0</td>\n",
       "      <td>0.0</td>\n",
       "      <td>0.0</td>\n",
       "      <td>1.0</td>\n",
       "      <td>1.0</td>\n",
       "      <td>275</td>\n",
       "      <td>44</td>\n",
       "      <td>88</td>\n",
       "      <td>0.0</td>\n",
       "    </tr>\n",
       "  </tbody>\n",
       "</table>\n",
       "<p>5 rows × 39 columns</p>\n",
       "</div>"
      ],
      "text/plain": [
       "   grape_Barbera  grape_Cabernet Franc  grape_Cabernet Sauvingnon  \\\n",
       "0            0.0                   0.0                        0.0   \n",
       "1            0.0                   0.0                        0.0   \n",
       "2            0.0                   0.0                        0.0   \n",
       "3            0.0                   0.0                        0.0   \n",
       "4            0.0                   0.0                        0.0   \n",
       "\n",
       "   grape_Chardonnay  grape_Grenache  grape_Malbec  grape_Marsanne  \\\n",
       "0               0.0             0.0           0.0             0.0   \n",
       "1               0.0             0.0           0.0             0.0   \n",
       "2               0.0             0.0           0.0             0.0   \n",
       "3               0.0             0.0           0.0             0.0   \n",
       "4               0.0             0.0           0.0             0.0   \n",
       "\n",
       "   grape_Merlot  grape_Petite Sirah  grape_Pinot Noir    ...      \\\n",
       "0           0.0                 0.0               0.0    ...       \n",
       "1           0.0                 0.0               0.0    ...       \n",
       "2           0.0                 0.0               0.0    ...       \n",
       "3           0.0                 0.0               0.0    ...       \n",
       "4           0.0                 0.0               0.0    ...       \n",
       "\n",
       "   county_Santa Barbara  county_Solano  county_Sonoma  county_Yolo  AVA_Yes  \\\n",
       "0                   0.0            0.0            0.0          0.0      1.0   \n",
       "1                   0.0            0.0            0.0          0.0      1.0   \n",
       "2                   0.0            0.0            0.0          0.0      1.0   \n",
       "3                   0.0            0.0            0.0          0.0      1.0   \n",
       "4                   0.0            0.0            0.0          0.0      1.0   \n",
       "\n",
       "   drink_later  cases  price  score  score_bin  \n",
       "0          0.0    275     44     93        1.0  \n",
       "1          0.0    480     35     93        1.0  \n",
       "2          1.0   2700     40     91        1.0  \n",
       "3          0.0    525     38     89        0.0  \n",
       "4          1.0    275     44     88        0.0  \n",
       "\n",
       "[5 rows x 39 columns]"
      ]
     },
     "execution_count": 51,
     "metadata": {},
     "output_type": "execute_result"
    }
   ],
   "source": [
    "# create dummies\n",
    "d_grape = pd.get_dummies(df.grape,prefix='grape')\n",
    "d_color = pd.get_dummies(df.color,prefix='color')\n",
    "d_county = pd.get_dummies(df.county,prefix='county')\n",
    "# d_area = pd.get_dummies(df.area ,prefix='d')\n",
    "d_isava = pd.get_dummies(df.isava ,prefix='AVA')\n",
    "d_drink = pd.get_dummies(df.drink ,prefix='drink')\n",
    "\n",
    "n_df = pd.concat( [d_grape ,d_county ,d_isava['AVA_Yes'] ,d_drink['drink_later'],df.cases,df.price,df.score,df.score_bin],axis=1 )\n",
    "n_df.head()"
   ]
  },
  {
   "cell_type": "code",
   "execution_count": 52,
   "metadata": {
    "collapsed": false
   },
   "outputs": [],
   "source": [
    "# d_color.head(10)"
   ]
  },
  {
   "cell_type": "code",
   "execution_count": 53,
   "metadata": {
    "collapsed": false
   },
   "outputs": [],
   "source": [
    "# df.head(10)"
   ]
  },
  {
   "cell_type": "code",
   "execution_count": 54,
   "metadata": {
    "collapsed": false
   },
   "outputs": [],
   "source": [
    "# sklearn works with numpy better than pandas \n",
    "y = n_df['score_bin'].values\n",
    "x = n_df.drop(['score','score_bin'], axis=1).values"
   ]
  },
  {
   "cell_type": "code",
   "execution_count": 55,
   "metadata": {
    "collapsed": false
   },
   "outputs": [],
   "source": [
    "# creating test and training datasets\n",
    "from sklearn.cross_validation import train_test_split\n",
    "\n",
    "X_train, X_test, y_train, y_test = train_test_split(x, y, test_size=0.2, random_state=4)"
   ]
  },
  {
   "cell_type": "markdown",
   "metadata": {},
   "source": [
    "# E - Graphical Analysis"
   ]
  },
  {
   "cell_type": "code",
   "execution_count": 56,
   "metadata": {
    "collapsed": false
   },
   "outputs": [
    {
     "data": {
      "image/png": "[encoded data removed]",
      "text/plain": [
       "<matplotlib.figure.Figure at 0x7f0806696c50>"
      ]
     },
     "metadata": {},
     "output_type": "display_data"
    }
   ],
   "source": [
    "fig,ax = plt.subplots(1,1,figsize=(14,10))\n",
    "corr = n_df.corr()\n",
    "sns.heatmap(corr)\n",
    "plt.show()"
   ]
  },
  {
   "cell_type": "markdown",
   "metadata": {},
   "source": [
    "Score seems to be have some positive correlation with price, drink_later(maturity), county Sonoma, grape Chardonnay.\n",
    "\n",
    "On the other hand, score has negative correlation with AVA_no (grapes from other areas), grapes Zinfandel and Sauvignon Blanc"
   ]
  },
  {
   "cell_type": "code",
   "execution_count": 57,
   "metadata": {
    "collapsed": false
   },
   "outputs": [
    {
     "data": {
      "image/png": "[encoded data removed]",
      "text/plain": [
       "<matplotlib.figure.Figure at 0x7f0805b70ad0>"
      ]
     },
     "metadata": {},
     "output_type": "display_data"
    }
   ],
   "source": [
    "fig,ax = plt.subplots(1,1,figsize=(10,20))\n",
    "sns.swarmplot(y=df.grape, x=\"price\", hue=\"score_bin\", data=n_df);"
   ]
  },
  {
   "cell_type": "markdown",
   "metadata": {},
   "source": [
    "Another way to see the relationship between price, score and grapes at once.\n",
    "- Most of the grapes cant be used for analysis since the data is not enough.\n",
    "- Wines manufactured from  Zinfandel and Sauvignon Blanc grapes are mostly low scored.\n",
    "- Cabernet Sauvingnon and Chardonay grapes yielded usually hig scored wines"
   ]
  },
  {
   "cell_type": "code",
   "execution_count": 58,
   "metadata": {
    "collapsed": false
   },
   "outputs": [
    {
     "data": {
      "image/png": "[encoded data removed]",
      "text/plain": [
       "<matplotlib.figure.Figure at 0x7f0805704510>"
      ]
     },
     "metadata": {},
     "output_type": "display_data"
    }
   ],
   "source": [
    "fig,ax = plt.subplots(1,1,figsize=(7,7))\n",
    "plt.scatter(n_df.score,n_df.price,c=n_df.score_bin);"
   ]
  },
  {
   "cell_type": "markdown",
   "metadata": {},
   "source": [
    "Relationship between price and score semmes to have a positive trend. But a model with polynomial features may fit better since the relationship is not linear."
   ]
  },
  {
   "cell_type": "markdown",
   "metadata": {},
   "source": [
    "# F - Classification"
   ]
  },
  {
   "cell_type": "markdown",
   "metadata": {},
   "source": [
    "## Decision Tree"
   ]
  },
  {
   "cell_type": "code",
   "execution_count": 59,
   "metadata": {
    "collapsed": false
   },
   "outputs": [],
   "source": [
    "# creating test and training datasets\n",
    "from sklearn.cross_validation import train_test_split\n",
    "\n",
    "X_train, X_test, y_train, y_test = train_test_split(x, y, test_size=0.1, random_state=45)"
   ]
  },
  {
   "cell_type": "code",
   "execution_count": 60,
   "metadata": {
    "collapsed": false,
    "scrolled": true
   },
   "outputs": [
    {
     "name": "stdout",
     "output_type": "stream",
     "text": [
      "0.846666666667 0.8\n"
     ]
    }
   ],
   "source": [
    "from sklearn import tree\n",
    "\n",
    "tree_model = tree.DecisionTreeClassifier(max_depth=6)\n",
    "\n",
    "#train the classifier using the training data\n",
    "tree_model.fit(X_train, y_train)\n",
    "predictions = tree_model.predict(X_test)\n",
    "\n",
    "# lets see how accurate our classfier was on the testing set\n",
    "print tree_model.score( X_train , y_train ), tree_model.score( X_test , y_test )"
   ]
  },
  {
   "cell_type": "code",
   "execution_count": 61,
   "metadata": {
    "collapsed": false,
    "scrolled": true
   },
   "outputs": [
    {
     "data": {
      "text/plain": [
       "True"
      ]
     },
     "execution_count": 61,
     "metadata": {},
     "output_type": "execute_result"
    }
   ],
   "source": [
    "# draw the tree\n",
    "from sklearn.externals.six import StringIO\n",
    "import pydot\n",
    "dot_data = StringIO()\n",
    "tree.export_graphviz(tree_model,\n",
    "                        out_file = dot_data,\n",
    "                        feature_names = n_df.drop(['score','score_bin'], axis=1).columns.values,\n",
    "                        class_names = ['low','high'],\n",
    "                        filled = True, rounded = True,\n",
    "                        impurity = False, max_depth=3)\n",
    "\n",
    "graph = pydot.graph_from_dot_data(dot_data.getvalue())\n",
    "graph.write_pdf('tree.pdf')"
   ]
  },
  {
   "cell_type": "code",
   "execution_count": 62,
   "metadata": {
    "collapsed": false,
    "scrolled": true
   },
   "outputs": [
    {
     "data": {
      "text/html": [
       "\n",
       "        <iframe\n",
       "            width=\"800\"\n",
       "            height=\"400\"\n",
       "            src=\"tree.pdf\"\n",
       "            frameborder=\"0\"\n",
       "            allowfullscreen\n",
       "        ></iframe>\n",
       "        "
      ],
      "text/plain": [
       "<IPython.lib.display.IFrame at 0x7f0805ccb4d0>"
      ]
     },
     "execution_count": 62,
     "metadata": {},
     "output_type": "execute_result"
    }
   ],
   "source": [
    "from IPython.display import IFrame\n",
    "IFrame(\"tree.pdf\", width=800, height=400)"
   ]
  },
  {
   "cell_type": "markdown",
   "metadata": {},
   "source": [
    "## Logistic Regression"
   ]
  },
  {
   "cell_type": "code",
   "execution_count": 63,
   "metadata": {
    "collapsed": false,
    "scrolled": true
   },
   "outputs": [
    {
     "name": "stdout",
     "output_type": "stream",
     "text": [
      "0.742222222222 0.86\n"
     ]
    }
   ],
   "source": [
    "from sklearn import linear_model\n",
    "   \n",
    "log_model = linear_model.LogisticRegression(C=10**5)\n",
    "log_model.fit(X_train, y_train)\n",
    "\n",
    "print log_model.score( X_train , y_train ), log_model.score( X_test , y_test )"
   ]
  },
  {
   "cell_type": "markdown",
   "metadata": {},
   "source": [
    "\n",
    "## Roc Curve"
   ]
  },
  {
   "cell_type": "code",
   "execution_count": 64,
   "metadata": {
    "collapsed": true
   },
   "outputs": [],
   "source": [
    "log_predictions = log_model.predict(X_test) \n",
    "tree_predictions = tree_model.predict(X_test) \n",
    "actual = y_test"
   ]
  },
  {
   "cell_type": "code",
   "execution_count": 65,
   "metadata": {
    "collapsed": false
   },
   "outputs": [],
   "source": [
    "from sklearn.metrics import roc_curve, auc\n",
    "\n",
    "log_false_positive_rate, log_true_positive_rate, log_thresholds = roc_curve(actual, log_predictions)\n",
    "tree_false_positive_rate, tree_true_positive_rate, tree_thresholds = roc_curve(actual, tree_predictions)\n",
    "\n",
    "log_roc_auc = auc(log_false_positive_rate, log_true_positive_rate)\n",
    "tree_roc_auc = auc(tree_false_positive_rate, tree_true_positive_rate)"
   ]
  },
  {
   "cell_type": "code",
   "execution_count": 77,
   "metadata": {
    "collapsed": false,
    "scrolled": true
   },
   "outputs": [
    {
     "data": {
      "image/png": "[encoded data removed]",
      "text/plain": [
       "<matplotlib.figure.Figure at 0x7f0800971310>"
      ]
     },
     "metadata": {},
     "output_type": "display_data"
    }
   ],
   "source": [
    "fig,ax = plt.subplots(1,1,figsize=(10,7))\n",
    "plt.title('Receiver Operating Characteristic')\n",
    "plt.plot(log_false_positive_rate, log_true_positive_rate, 'b',\n",
    "label='LogReg AUC = %0.2f'% log_roc_auc)\n",
    "plt.plot(tree_false_positive_rate, tree_true_positive_rate, 'y',\n",
    "label='Tree AUC = %0.2f'% tree_roc_auc)\n",
    "plt.legend(loc='lower right')\n",
    "plt.plot([0,1],[0,1],'r--')\n",
    "plt.xlim([-0.1,1])\n",
    "plt.ylim([-0.1,1])\n",
    "plt.ylabel('True Positive Rate')\n",
    "plt.xlabel('False Positive Rate');"
   ]
  },
  {
   "cell_type": "markdown",
   "metadata": {},
   "source": [
    "LogREG AUC > Tree AUC means log regression performs better."
   ]
  },
  {
   "cell_type": "markdown",
   "metadata": {},
   "source": [
    "# G - Regression"
   ]
  },
  {
   "cell_type": "markdown",
   "metadata": {},
   "source": [
    "#### Linear Regression with Polynomial Features (d=2)"
   ]
  },
  {
   "cell_type": "code",
   "execution_count": 78,
   "metadata": {
    "collapsed": false
   },
   "outputs": [],
   "source": [
    "from sklearn.preprocessing import PolynomialFeatures\n",
    "X = df.price.values[:,np.newaxis]\n",
    "y = df.score.values[:,np.newaxis]"
   ]
  },
  {
   "cell_type": "code",
   "execution_count": 79,
   "metadata": {
    "collapsed": false
   },
   "outputs": [
    {
     "name": "stdout",
     "output_type": "stream",
     "text": [
      "0.322833737172\n"
     ]
    }
   ],
   "source": [
    "# fit a simple linear regression model for comparison\n",
    "lr = linear_model.LinearRegression()\n",
    "lr.fit(X, y)\n",
    "print lr.score(X,y)\n",
    "X_fit = np.arange(10,200,10)[:, np.newaxis]\n",
    "y_lin_fit = lr.predict(X_fit)"
   ]
  },
  {
   "cell_type": "code",
   "execution_count": 80,
   "metadata": {
    "collapsed": false
   },
   "outputs": [
    {
     "data": {
      "text/plain": [
       "0.43821743859607665"
      ]
     },
     "execution_count": 80,
     "metadata": {},
     "output_type": "execute_result"
    }
   ],
   "source": [
    "# with a ridge regularization term\n",
    "pr = linear_model.Ridge (alpha = 2000)\n",
    "# create polynomial terms\n",
    "poly_terms = PolynomialFeatures(degree=3)\n",
    "\n",
    "X_poly = poly_terms.fit_transform(X)\n",
    "pr.fit(X_poly, y)\n",
    "\n",
    "y_poly_fit = pr.predict(poly_terms.fit_transform(X_fit))\n",
    "pr.score(X_poly,y)"
   ]
  },
  {
   "cell_type": "code",
   "execution_count": 81,
   "metadata": {
    "collapsed": false
   },
   "outputs": [
    {
     "data": {
      "image/png": "[encoded data removed]",
      "text/plain": [
       "<matplotlib.figure.Figure at 0x7f080084a990>"
      ]
     },
     "metadata": {},
     "output_type": "display_data"
    }
   ],
   "source": [
    "# plot the results\n",
    "fig,ax = plt.subplots(1,1,figsize=(14,7))\n",
    "ax.scatter(X, y, label='training points',alpha=.7,c='y')\n",
    "ax.plot(X_fit, y_lin_fit,label='linear fit', linestyle='--',c='k')\n",
    "ax.plot(X_fit, y_poly_fit, label='quadratic fit',c='m')\n",
    "ax.set_xlabel('Price')\n",
    "ax.set_ylabel('Score')\n",
    "ax.legend(loc='upper left');"
   ]
  },
  {
   "cell_type": "markdown",
   "metadata": {},
   "source": [
    "Since the relationship between price and score is not linear it is better to fit a curve rather than a line. I fitted a curve with polynomial order 3. In addition, I added a ridge regularization term in order to avoid over fitting. \n",
    "\n",
    "The magenta line (d=3) seems to represent the relationship better. At first score and price has a strong relationship. Later, the relationship gets weaker.\n",
    "\n",
    "Goodness of fit (Rsquared) of regression with polynomial terms is higher than the simple model. (0.44>0.32) Another indicator that the polynomial model fits better."
   ]
  }
 ],
 "metadata": {
  "kernelspec": {
   "display_name": "Python [Root]",
   "language": "python",
   "name": "Python [Root]"
  },
  "language_info": {
   "codemirror_mode": {
    "name": "ipython",
    "version": 2
   },
   "file_extension": ".py",
   "mimetype": "text/x-python",
   "name": "python",
   "nbconvert_exporter": "python",
   "pygments_lexer": "ipython2",
   "version": "2.7.12"
  }
 },
 "nbformat": 4,
 "nbformat_minor": 0
}
